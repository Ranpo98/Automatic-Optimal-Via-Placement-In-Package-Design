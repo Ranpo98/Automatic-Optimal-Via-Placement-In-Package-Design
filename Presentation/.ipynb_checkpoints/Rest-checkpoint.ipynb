{
 "cells": [
  {
   "cell_type": "code",
   "execution_count": null,
   "id": "9502584c",
   "metadata": {},
   "outputs": [],
   "source": [
    "names = ['SLSQP','trust-constr','COBYLA']\n",
    "print (cf)\n",
    "print (len(history))\n",
    "# print (history)\n",
    "# print (type(history))\n",
    "plt.figure(1)\n",
    "plt.plot(xtest,ytest,'--',label='Solution from np.linalg.lstsq')\n",
    "plt.figure(2)\n",
    "plt.plot(c,'*',label='Solution from np.linalg.lstsq')\n",
    "\n",
    "result = optimize.minimize(norm2_sq, x0 = np.zeros(Korder), method = 'Nelder-Mead', tol=1e-9, callback = save_xk, args = (A,y))\n",
    "plot_result(result['x'],history, 'optimize.minimize unconstraint')\n",
    "for n in names:\n",
    "  cf = np.load('coeff_'+n+'.npy')\n",
    "  history = np.load('history_'+n+'.npy')\n",
    "  plot_result(cf,history,'output bounded contraint - '+n)"
   ]
  },
  {
   "cell_type": "code",
   "execution_count": null,
   "id": "9902e7f0",
   "metadata": {},
   "outputs": [],
   "source": [
    "import numpy as np\n",
    "files = ['coeff_COBYLA','coeff_SLSQP','coeff_trust-constr','history_COBYLA','history_SLSQP','history_trust-constr']\n",
    "for a in files:\n",
    "  load = np.load(a+'.npy')\n",
    "  print(a,\"=\",load)\n",
    "  np.savetxt(a+\".csv\",load,delimiter = \",\")"
   ]
  }
 ],
 "metadata": {
  "kernelspec": {
   "display_name": "Python 3 (ipykernel)",
   "language": "python",
   "name": "python3"
  },
  "language_info": {
   "codemirror_mode": {
    "name": "ipython",
    "version": 3
   },
   "file_extension": ".py",
   "mimetype": "text/x-python",
   "name": "python",
   "nbconvert_exporter": "python",
   "pygments_lexer": "ipython3",
   "version": "3.9.12"
  }
 },
 "nbformat": 4,
 "nbformat_minor": 5
}
