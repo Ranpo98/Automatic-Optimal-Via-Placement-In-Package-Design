{
 "cells": [
  {
   "cell_type": "code",
   "execution_count": 56,
   "id": "df68433f",
   "metadata": {},
   "outputs": [
    {
     "name": "stdout",
     "output_type": "stream",
     "text": [
      "(5, 6)\n",
      "[[ 1.00000000e+00 -9.96266231e+00  9.92546402e+01 -9.88840463e+02\n",
      "   9.85148361e+03 -9.81470044e+04]\n",
      " [ 1.00000000e+00 -8.35195260e+00  6.97551122e+01 -5.82591390e+02\n",
      "   4.86577568e+03 -4.06387278e+04]\n",
      " [ 1.00000000e+00 -6.21391262e+00  3.86127101e+01 -2.39936006e+02\n",
      "   1.49094138e+03 -9.26457945e+03]\n",
      " [ 1.00000000e+00  2.73124413e+00  7.45969452e+00  2.03742469e+01\n",
      "   5.56470423e+01  1.51985658e+02]\n",
      " [ 1.00000000e+00  5.81706482e+00  3.38382431e+01  1.96839254e+02\n",
      "   1.14502670e+03  6.66069453e+03]]\n",
      "(101, 6)\n"
     ]
    },
    {
     "name": "stderr",
     "output_type": "stream",
     "text": [
      "C:\\Users\\erick\\AppData\\Local\\Temp\\ipykernel_8656\\645997316.py:25: FutureWarning: `rcond` parameter will change to the default of machine precision times ``max(M, N)`` where M and N are the input matrix dimensions.\n",
      "To use the future default and silence this warning we advise to pass `rcond=None`, to keep using the old, explicitly pass `rcond=-1`.\n",
      "  x_solution = np.linalg.lstsq(a,y)\n"
     ]
    },
    {
     "data": {
      "text/plain": [
       "[<matplotlib.lines.Line2D at 0x20db65c0fd0>]"
      ]
     },
     "execution_count": 56,
     "metadata": {},
     "output_type": "execute_result"
    },
    {
     "data": {
      "image/png": "[encoded data removed]",
      "text/plain": [
       "<Figure size 432x288 with 1 Axes>"
      ]
     },
     "metadata": {
      "needs_background": "light"
     },
     "output_type": "display_data"
    }
   ],
   "source": [
    "import numpy as np\n",
    "import matplotlib.pyplot as plt\n",
    "from itertools import product\n",
    "\n",
    "def sigmoid(x):\n",
    "    return 1 / (1 + np.exp(-x))\n",
    "\n",
    "n = 5\n",
    "x = np.random.uniform(-10,10,n)\n",
    "y = sigmoid(x) # next step is to set the y as a changing input, it will not be a specific function, \n",
    "               # but instead, it will be a set of data points.\n",
    "plt.plot(x,y,'o')\n",
    "\n",
    "def make_matrix(x):\n",
    "    k = 6\n",
    "    a = list()\n",
    "    for i in range(k):\n",
    "        a.append(x ** i)\n",
    "    a = np.array(a).T\n",
    "    print(a.shape)\n",
    "    return a\n",
    "\n",
    "a = make_matrix(x)   # a * x + b = y\n",
    "print (a)\n",
    "from scipy.linalg import solve\n",
    "x_solution = np.linalg.lstsq(a,y) #change this line\n",
    "c = x_solution[0]\n",
    "xtest = np.linspace(-10,10,101)\n",
    "a = make_matrix(xtest)\n",
    "ytest = a.dot(c)\n",
    "plt.plot(xtest,ytest)\n",
    "\n",
    "# type[data]\n",
    "# # np.argmin(data)\n",
    "\n",
    "# from scipy.stats import norm\n",
    "# import matplotlib.pyplot as plt\n",
    "# fig, ax = plt.subplots(1, 1)\n",
    "# graph = np.array(norm.expect(sine))\n",
    "# # type(graph)\n",
    "# x = np.linspace(0,1,1)\n",
    "# # type(x)\n",
    "# ax.plot(x, graph)\n",
    "\n",
    "# numpy.argmin(graph)\n",
    "\n",
    "# def cost(x,data)\n",
    "#     for i in range(0,10):\n",
    "#         A = (data - y) / x "
   ]
  },
  {
   "cell_type": "code",
   "execution_count": 26,
   "id": "ab0147b7",
   "metadata": {},
   "outputs": [
    {
     "data": {
      "text/plain": [
       "numpy.ndarray"
      ]
     },
     "execution_count": 26,
     "metadata": {},
     "output_type": "execute_result"
    },
    {
     "data": {
      "image/png": "[encoded data removed]",
      "text/plain": [
       "<Figure size 432x288 with 1 Axes>"
      ]
     },
     "metadata": {
      "needs_background": "light"
     },
     "output_type": "display_data"
    }
   ],
   "source": [
    "from scipy.stats import norm\n",
    "import matplotlib.pyplot as plt\n",
    "fig, ax = plt.subplots(1, 1)\n",
    "mean, var, skew, kurt = norm.stats(moments='mvsk')\n",
    "x = np.linspace(norm.ppf(0.01),\n",
    "                norm.ppf(0.99), 100)\n",
    "ax.plot(x, norm.pdf(x),\n",
    "       'r-', lw=5, alpha=0.6, label='norm pdf')\n",
    "type(norm.pdf(x))\n",
    "type(x)"
   ]
  },
  {
   "cell_type": "code",
   "execution_count": null,
   "id": "486c8893",
   "metadata": {},
   "outputs": [],
   "source": []
  }
 ],
 "metadata": {
  "kernelspec": {
   "display_name": "Python 3 (ipykernel)",
   "language": "python",
   "name": "python3"
  },
  "language_info": {
   "codemirror_mode": {
    "name": "ipython",
    "version": 3
   },
   "file_extension": ".py",
   "mimetype": "text/x-python",
   "name": "python",
   "nbconvert_exporter": "python",
   "pygments_lexer": "ipython3",
   "version": "3.9.12"
  }
 },
 "nbformat": 4,
 "nbformat_minor": 5
}
