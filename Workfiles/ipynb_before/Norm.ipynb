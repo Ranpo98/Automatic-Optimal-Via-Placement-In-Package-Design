{
 "cells": [
  {
   "cell_type": "code",
   "execution_count": 2,
   "id": "df68433f",
   "metadata": {},
   "outputs": [
    {
     "name": "stdout",
     "output_type": "stream",
     "text": [
      "(5, 6)\n",
      "[[ 1.00000000e+00  7.24986079e+00  5.25604814e+01  3.81056173e+02\n",
      "   2.76260421e+03  2.00284959e+04]\n",
      " [ 1.00000000e+00 -2.59939649e+00  6.75686211e+00 -1.75637637e+01\n",
      "   4.56551856e+01 -1.18675929e+02]\n",
      " [ 1.00000000e+00  3.38671901e+00  1.14698657e+01  3.88452122e+01\n",
      "   1.31557819e+02  4.45549365e+02]\n",
      " [ 1.00000000e+00 -9.43058874e+00  8.89360039e+01 -8.38718877e+02\n",
      "   7.90961280e+03 -7.45923053e+04]\n",
      " [ 1.00000000e+00 -6.93196451e+00  4.80521319e+01 -3.33095673e+02\n",
      "   2.30900738e+03 -1.60059572e+04]]\n",
      "(101, 6)\n"
     ]
    },
    {
     "name": "stderr",
     "output_type": "stream",
     "text": [
      "C:\\Users\\erick\\AppData\\Local\\Temp\\ipykernel_15684\\1936251415.py:26: FutureWarning: `rcond` parameter will change to the default of machine precision times ``max(M, N)`` where M and N are the input matrix dimensions.\n",
      "To use the future default and silence this warning we advise to pass `rcond=None`, to keep using the old, explicitly pass `rcond=-1`.\n",
      "  x_solution = np.linalg.lstsq(a,y) #change this line\n"
     ]
    },
    {
     "data": {
      "text/plain": [
       "[<matplotlib.lines.Line2D at 0x1b7fd38be50>]"
      ]
     },
     "execution_count": 2,
     "metadata": {},
     "output_type": "execute_result"
    },
    {
     "data": {
      "image/png": "[encoded data removed]",
      "text/plain": [
       "<Figure size 432x288 with 1 Axes>"
      ]
     },
     "metadata": {
      "needs_background": "light"
     },
     "output_type": "display_data"
    }
   ],
   "source": [
    "import numpy as np\n",
    "import matplotlib.pyplot as plt\n",
    "from itertools import product\n",
    "\n",
    "def sigmoid(x):\n",
    "    return 1 / (1 + np.exp(-x))\n",
    "\n",
    "n = 5\n",
    "x = np.random.uniform(-10,10,n)\n",
    "y = sigmoid(x) # next step is to set the y as a changing input, it will not be a specific function, \n",
    "               # but instead, it will be a set of data points.\n",
    "plt.plot(x,y,'o')\n",
    "\n",
    "def make_matrix(x):\n",
    "    k = 6\n",
    "    a = list()\n",
    "    for i in range(k):\n",
    "        a.append(x ** i)\n",
    "    a = np.array(a).T\n",
    "    print(a.shape)\n",
    "    return a\n",
    "\n",
    "a = make_matrix(x)   # a * x + b = y\n",
    "print (a)\n",
    "from scipy.linalg import solve\n",
    "x_solution = np.linalg.lstsq(a,y) #change this line\n",
    "c = x_solution[0]\n",
    "xtest = np.linspace(-10,10,101)\n",
    "a = make_matrix(xtest)\n",
    "ytest = a.dot(c)\n",
    "plt.plot(xtest,ytest)\n",
    "\n",
    "# type[data]\n",
    "# # np.argmin(data)\n",
    "\n",
    "# from scipy.stats import norm\n",
    "# import matplotlib.pyplot as plt\n",
    "# fig, ax = plt.subplots(1, 1)\n",
    "# graph = np.array(norm.expect(sine))\n",
    "# # type(graph)\n",
    "# x = np.linspace(0,1,1)\n",
    "# # type(x)\n",
    "# ax.plot(x, graph)\n",
    "\n",
    "# numpy.argmin(graph)\n",
    "\n",
    "# def cost(x,data)\n",
    "#     for i in range(0,10):\n",
    "#         A = (data - y) / x "
   ]
  },
  {
   "cell_type": "code",
   "execution_count": null,
   "id": "486c8893",
   "metadata": {},
   "outputs": [],
   "source": []
  }
 ],
 "metadata": {
  "kernelspec": {
   "display_name": "Python 3 (ipykernel)",
   "language": "python",
   "name": "python3"
  },
  "language_info": {
   "codemirror_mode": {
    "name": "ipython",
    "version": 3
   },
   "file_extension": ".py",
   "mimetype": "text/x-python",
   "name": "python",
   "nbconvert_exporter": "python",
   "pygments_lexer": "ipython3",
   "version": "3.9.12"
  }
 },
 "nbformat": 4,
 "nbformat_minor": 5
}
